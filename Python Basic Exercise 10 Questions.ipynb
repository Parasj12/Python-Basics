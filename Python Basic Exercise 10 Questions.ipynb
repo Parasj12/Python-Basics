{
 "cells": [
  {
   "cell_type": "markdown",
   "metadata": {},
   "source": [
    "### Python Basic Programming Exercise"
   ]
  },
  {
   "cell_type": "code",
   "execution_count": null,
   "metadata": {},
   "outputs": [],
   "source": [
    "#1: Write a program which will find all such numbers which are divisible by 7 but are not a multiple of 5, between 2000 and 3200 (both included).\n",
    "#The numbers obtained should be printed in a comma-separated sequence on a single line.\n",
    "\n",
    "#Hints: Consider use range(#begin, #end) method\n"
   ]
  },
  {
   "cell_type": "code",
   "execution_count": 11,
   "metadata": {},
   "outputs": [],
   "source": [
    "l1=range(2000,3201)\n",
    "\n",
    "for x in l1:\n",
    "    if x%7==0 & x%5!=0:\n",
    "        print(x,end=',')"
   ]
  },
  {
   "cell_type": "code",
   "execution_count": 12,
   "metadata": {},
   "outputs": [],
   "source": [
    "#2. Write a program which can compute the factorial of a given numbers. The results should be printed in a comma-separated sequence on a single line. \n",
    "#raw_input() function can be used for getting user(console) input\n",
    "\n",
    "#Suppose the input is supplied to the program:  8  \n",
    "#Then, the output should be:  40320 \n",
    "#Hints: In case of input data being supplied to the question, it should be assumed to be a console input. \n"
   ]
  },
  {
   "cell_type": "code",
   "execution_count": 13,
   "metadata": {},
   "outputs": [
    {
     "name": "stdout",
     "output_type": "stream",
     "text": [
      "Enter a number8\n",
      "40320\n"
     ]
    }
   ],
   "source": [
    "x=int(input(\"Enter a number\"))\n",
    "def fact(x):\n",
    "    if x==0:\n",
    "        return 1\n",
    "    return x*fact(x-1)\n",
    "print(fact(x))"
   ]
  },
  {
   "cell_type": "code",
   "execution_count": 14,
   "metadata": {},
   "outputs": [],
   "source": [
    "\n",
    "#3. With a given integral number n, write a program to generate a dictionary that contains (i, i*i) such that is an integral number between 1 and n (both included). and then the program should print the dictionary.\n",
    "#Suppose the following input is supplied to the program: 8\n",
    "#Then, the output should be: {1: 1, 2: 4, 3: 9, 4: 16, 5: 25, 6: 36, 7: 49, 8: 64}\n",
    "#Hints: In case of input data being supplied to the question, it should be assumed to be a console input. Consider use dict()\n",
    "\n"
   ]
  },
  {
   "cell_type": "code",
   "execution_count": 15,
   "metadata": {},
   "outputs": [
    {
     "name": "stdout",
     "output_type": "stream",
     "text": [
      "Enter a number8\n"
     ]
    },
    {
     "data": {
      "text/plain": [
       "{0: 0, 1: 1, 2: 4, 3: 9, 4: 16, 5: 25, 6: 36, 7: 49, 8: 64}"
      ]
     },
     "execution_count": 15,
     "metadata": {},
     "output_type": "execute_result"
    }
   ],
   "source": [
    "n=int(input(\"Enter a number\"))\n",
    "myDict={k:v for k,v in [(i,i**2) for i in range(n+1)] }\n",
    "myDict                        "
   ]
  },
  {
   "cell_type": "code",
   "execution_count": 16,
   "metadata": {},
   "outputs": [],
   "source": [
    "#4. Write a program which accepts a sequence of comma-separated numbers from console and generate a list and a tuple which contains every number.\n",
    "#Suppose the following input is supplied to the program: 34,67,55,33,12,98\n",
    "#Then, the output should be: ['34', '67', '55', '33', '12', '98'] ('34', '67', '55', '33', '12', '98')\n",
    "\n",
    "#Hints: In case of input data being supplied to the question, it should be assumed to be a console input. tuple() method can convert list to tuple\n"
   ]
  },
  {
   "cell_type": "code",
   "execution_count": 18,
   "metadata": {},
   "outputs": [
    {
     "name": "stdout",
     "output_type": "stream",
     "text": [
      "Enter multiple values separated by comma(,)34,67,55,33,12,98\n",
      "['34', '67', '55', '33', '12', '98'] ('34', '67', '55', '33', '12', '98')\n"
     ]
    }
   ],
   "source": [
    "l=input(\"Enter multiple values separated by comma(,)\")\n",
    "l=l.split(\",\")\n",
    "t=tuple(l)\n",
    "print(l,t)"
   ]
  },
  {
   "cell_type": "code",
   "execution_count": 19,
   "metadata": {},
   "outputs": [],
   "source": [
    "#5. Define a class which has at least two methods: getString: to get a string from console input and \n",
    "#printString: to print the string in upper case. Also please include simple test function to test the class methods.\n",
    "\n",
    "#Hints: Use __init__ method to construct some parameters\n"
   ]
  },
  {
   "cell_type": "code",
   "execution_count": 20,
   "metadata": {},
   "outputs": [],
   "source": [
    "class iostring:\n",
    "    def _init_(self):\n",
    "        self.s=\"\"\n",
    "    def getString(self):\n",
    "        self.s=input(\"Enter String\")\n",
    "    def printString(self):\n",
    "        print (self.s.upper())"
   ]
  },
  {
   "cell_type": "code",
   "execution_count": 21,
   "metadata": {},
   "outputs": [
    {
     "name": "stdout",
     "output_type": "stream",
     "text": [
      "Enter Stringhello bois!\n"
     ]
    }
   ],
   "source": [
    "newobj = iostring()\n",
    "newobj.getString()"
   ]
  },
  {
   "cell_type": "code",
   "execution_count": 22,
   "metadata": {},
   "outputs": [
    {
     "name": "stdout",
     "output_type": "stream",
     "text": [
      "HELLO BOIS!\n"
     ]
    }
   ],
   "source": [
    "newobj.printString()"
   ]
  },
  {
   "cell_type": "code",
   "execution_count": 23,
   "metadata": {},
   "outputs": [],
   "source": [
    "#6. Write a program that accepts a comma separated sequence of words as input and prints the words in a comma-separated sequence after sorting them alphabetically.\n",
    "# Suppose the following input is supplied to the program: without,hello,bag,world\n",
    "# Then, the output should be: bag,hello,without,world\n",
    "\n",
    "#Hints: In case of input data being supplied to the question, it should be assumed to be a console input.\n"
   ]
  },
  {
   "cell_type": "code",
   "execution_count": 24,
   "metadata": {},
   "outputs": [
    {
     "name": "stdout",
     "output_type": "stream",
     "text": [
      "Enter words separated with comma(,):without,hello,bag,world\n",
      "bag,hello,without,world,"
     ]
    }
   ],
   "source": [
    "st=input(\"Enter words separated with comma(,):\")\n",
    "l=st.split(\",\")\n",
    "l.sort()\n",
    "for word in l:\n",
    "    print(word,end=\",\")"
   ]
  },
  {
   "cell_type": "code",
   "execution_count": 25,
   "metadata": {},
   "outputs": [],
   "source": [
    "#7. Write a program that accepts a sequence of whitespace separated words as input and prints the words after removing all duplicate words and sorting them alphanumerically.\n",
    "# Suppose the following input is supplied to the program: hello world and practice makes perfect and hello world again\n",
    "# Then, the output should be: again and hello makes perfect practice world\n",
    "\n",
    "#Hints: In case of input data being supplied to the question, it should be assumed to be a console input.\n",
    "#We use set container to remove duplicated data automatically and then use sorted() to sort the data.\n"
   ]
  },
  {
   "cell_type": "code",
   "execution_count": 26,
   "metadata": {},
   "outputs": [
    {
     "name": "stdout",
     "output_type": "stream",
     "text": [
      "Enter a sequence of words separated by whitespaces:hello world and practice makes perfect and hello world again\n",
      "again and hello makes perfect practice world "
     ]
    }
   ],
   "source": [
    "st=input(\"Enter a sequence of words separated by whitespaces:\")\n",
    "l=st.split(\" \")\n",
    "set_input=list(set(l))\n",
    "set_input.sort()\n",
    "for word in set_input:\n",
    "    print(word,end=\" \")"
   ]
  },
  {
   "cell_type": "code",
   "execution_count": 27,
   "metadata": {},
   "outputs": [],
   "source": [
    "#8. Write a program that accepts a sentence and calculate the number of upper case letters and lower case letters.\n",
    "#Suppose the following input is supplied to the program: Hello world!\n",
    "#Then, the output should be: UPPER CASE 1 LOWER CASE 9\n",
    "\n",
    "#Hints: In case of input data being supplied to the question, it should be assumed to be a console input.\n"
   ]
  },
  {
   "cell_type": "code",
   "execution_count": 28,
   "metadata": {},
   "outputs": [
    {
     "name": "stdout",
     "output_type": "stream",
     "text": [
      "Enter a sentence:Hello World!\n",
      "UPPER CASE 2 LOWER CASE 8\n"
     ]
    }
   ],
   "source": [
    "st=input(\"Enter a sentence:\")\n",
    "uc=0\n",
    "lc=0\n",
    "for word in st:\n",
    "    if word.islower():\n",
    "        lc=lc+1\n",
    "    elif word.isupper():\n",
    "        uc=uc+1\n",
    "print(\"UPPER CASE {} LOWER CASE {}\".format(uc,lc))"
   ]
  },
  {
   "cell_type": "code",
   "execution_count": 29,
   "metadata": {},
   "outputs": [],
   "source": [
    "#9. A website requires the users to input username and password to register. Write a program to check the validity of password\n",
    "#input by users. Following are the criteria for checking the password:\n",
    "#1. At least 1 letter between [a-z]\n",
    "#2. At least 1 number between [0-9]\n",
    "#1. At least 1 letter between [A-Z]\n",
    "#3. At least 1 character from [$#@]\n",
    "#4. Minimum length of transaction password: 6\n",
    "#5. Maximum length of transaction password: 12\n",
    "#Your program should accept a sequence of comma separated passwords and will check them according to the above criteria. \n",
    "#Passwords that match the criteria are to be printed, each separated by a comma.\n",
    "#Example. If the following passwords are given as input to the program: ABd1234@1,a F1#,2w3E*,2We3345\n",
    "#Then, the output of the program should be: ABd1234@1\n",
    "\n",
    "# You can use module called re\n",
    "#Hints: In case of input data being supplied to the question, it should be assumed to be a console input.\n",
    "\n"
   ]
  },
  {
   "cell_type": "code",
   "execution_count": 30,
   "metadata": {},
   "outputs": [
    {
     "name": "stdout",
     "output_type": "stream",
     "text": [
      "Enter passwords:ABd1234@1,a F1#,2w3E*,2We3345\n",
      "ABd1234@1\n"
     ]
    },
    {
     "data": {
      "text/plain": [
       "[None, None, None, None]"
      ]
     },
     "execution_count": 30,
     "metadata": {},
     "output_type": "execute_result"
    }
   ],
   "source": [
    "import re\n",
    "\n",
    "def passwordCheck(p):\n",
    "    w = True\n",
    "    while w:  \n",
    "        if (len(p)<6 or len(p)>12):\n",
    "            break\n",
    "        elif not re.search(\"[a-z]\",p):\n",
    "            break\n",
    "        elif not re.search(\"[0-9]\",p):\n",
    "            break\n",
    "        elif not re.search(\"[A-Z]\",p):\n",
    "            break\n",
    "        elif not re.search(\"[$#@]\",p):\n",
    "            break\n",
    "        else:\n",
    "            print(p)\n",
    "            w = False\n",
    "            break\n",
    "            \n",
    "passw = input(\"Enter passwords:\")\n",
    "passw = passw.split(',')\n",
    "list(map(passwordCheck, passw))"
   ]
  },
  {
   "cell_type": "code",
   "execution_count": null,
   "metadata": {},
   "outputs": [],
   "source": [
    "#10. Python has many built-in functions, and if you do not know how to use it, you can read document online or find some books.\n",
    "#But Python has a built-in document function for every built-in functions.\n",
    "#Please write a program to print some Python built-in functions documents, such as abs(), int(), raw_input()\n",
    "#And add document for your own function\n",
    "\n",
    "\n",
    "#Hints: The built-in document method is __doc__\n"
   ]
  },
  {
   "cell_type": "code",
   "execution_count": 32,
   "metadata": {},
   "outputs": [
    {
     "name": "stdout",
     "output_type": "stream",
     "text": [
      "\n",
      "    A function that does nothing\n",
      "    \n",
      "_________\n",
      "Return the absolute value of the argument.\n",
      "_________\n",
      "int(x=0) -> integer\n",
      "int(x, base=10) -> integer\n",
      "\n",
      "Convert a number or string to an integer, or return 0 if no arguments\n",
      "are given.  If x is a number, return x.__int__().  For floating point\n",
      "numbers, this truncates towards zero.\n",
      "\n",
      "If x is not a number or if base is given, then x must be a string,\n",
      "bytes, or bytearray instance representing an integer literal in the\n",
      "given base.  The literal can be preceded by '+' or '-' and be surrounded\n",
      "by whitespace.  The base defaults to 10.  Valid bases are 0 and 2-36.\n",
      "Base 0 means to interpret the base from the string as an integer literal.\n",
      ">>> int('0b100', base=0)\n",
      "4\n",
      "_________\n",
      "Forward raw_input to frontends\n",
      "\n",
      "        Raises\n",
      "        ------\n",
      "        StdinNotImplentedError if active frontend doesn't support stdin.\n",
      "        \n",
      "\n",
      "    A function that does nothing\n",
      "    \n"
     ]
    }
   ],
   "source": [
    "def func():\n",
    "    \"\"\"\n",
    "    A function that does nothing\n",
    "    \"\"\"\n",
    "print(func.__doc__)\n",
    "print(\"_________\")\n",
    "print(abs.__doc__)\n",
    "print(\"_________\")\n",
    "print(int.__doc__)\n",
    "print(\"_________\")\n",
    "print(input.__doc__)\n",
    "\n",
    "def func():\n",
    "    \"\"\"\n",
    "    A function that does nothing\n",
    "    \"\"\"\n",
    "print(func.__doc__)"
   ]
  },
  {
   "cell_type": "code",
   "execution_count": null,
   "metadata": {},
   "outputs": [],
   "source": []
  }
 ],
 "metadata": {
  "kernelspec": {
   "display_name": "Python 3",
   "language": "python",
   "name": "python3"
  },
  "language_info": {
   "codemirror_mode": {
    "name": "ipython",
    "version": 3
   },
   "file_extension": ".py",
   "mimetype": "text/x-python",
   "name": "python",
   "nbconvert_exporter": "python",
   "pygments_lexer": "ipython3",
   "version": "3.6.5"
  }
 },
 "nbformat": 4,
 "nbformat_minor": 2
}
